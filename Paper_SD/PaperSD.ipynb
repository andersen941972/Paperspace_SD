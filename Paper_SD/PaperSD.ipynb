{
 "cells": [
  {
   "cell_type": "code",
   "execution_count": null,
   "id": "d6323c1f-bd27-449d-a233-17cec0adecfb",
   "metadata": {},
   "outputs": [],
   "source": [
    "#1.初期設定\n",
    "#環境の保存先の設定01\n",
    "import os\n",
    "import datetime\n",
    "import shutil\n",
    "\n",
    "%cd /tmp\n",
    "\n",
    "#StableDiffusion-WebUIインストール先\n",
    "inst_path = \"/workspace\"\n",
    "sd_path = os.path.join(inst_path, \"stable-diffusion-webui\")\n",
    "\n",
    "\n",
    "# aria2インストール\n",
    "!if [ $(dpkg-query -W -f='${Status}' aria2 2>/dev/null | grep -c \"ok installed\") = 0 ]; then sudo apt update && sudo apt install -y aria2; fi\n",
    "\n",
    "# gdownインストール\n",
    "!pip install --upgrade gdown\n",
    "\n",
    "print(\"finish:初期設定\")\n",
    "\n"
   ]
  },
  {
   "cell_type": "code",
   "execution_count": null,
   "id": "2001c403-2114-458a-9014-39ee3340d775",
   "metadata": {},
   "outputs": [],
   "source": [
    "#3.WebUI\n",
    "# WebUIのインストール（基本一回きりでOK）\n",
    "%cd {inst_path}\n",
    "\n",
    "# 本体が存在しない場合のみ\n",
    "if os.path.isdir(\"stable-diffusion-webui\") == False:\n",
    "    !git clone https://github.com/AUTOMATIC1111/stable-diffusion-webui.git\n",
    "\n",
    "print(\"finish:WebUIインストール\")"
   ]
  },
  {
   "cell_type": "code",
   "execution_count": null,
   "id": "1242d62d-b333-46af-989b-8c10bb5d89cb",
   "metadata": {},
   "outputs": [],
   "source": [
    "#3.WebUI\n",
    "# WebUI削除\n",
    "!rm -rf /{inst_path}/stable-diffusion-webui\n",
    "print(\"finish:WebUI削除\")\n"
   ]
  },
  {
   "cell_type": "code",
   "execution_count": null,
   "id": "9197ec55-ab65-46a8-9a56-5a88b6231c06",
   "metadata": {},
   "outputs": [],
   "source": [
    "#web-ui起動\n",
    "#web-uiへのアクセスはlocalhost:7861をアドレスバーにコピー\n",
    "%cd /{inst_path}/stable-diffusion-webui\n",
    "!python launch.py --share --port 7861 --listen --enable-insecure-extension-access --xformers --disable-safe-unpickle "
   ]
  }
 ],
 "metadata": {
  "kernelspec": {
   "display_name": "myenv",
   "language": "python",
   "name": "myenv"
  },
  "language_info": {
   "codemirror_mode": {
    "name": "ipython",
    "version": 3
   },
   "file_extension": ".py",
   "mimetype": "text/x-python",
   "name": "python",
   "nbconvert_exporter": "python",
   "pygments_lexer": "ipython3",
   "version": "3.9.16"
  }
 },
 "nbformat": 4,
 "nbformat_minor": 5
}
